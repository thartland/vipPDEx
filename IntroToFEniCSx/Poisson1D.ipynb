{
 "cells": [
  {
   "cell_type": "markdown",
   "metadata": {},
   "source": [
    "# Poisson equation in 1D\n",
    "\n",
    "In this example, we show how to solve the Poisson equation in 1D\n",
    "\n",
    "$$ - \\frac{\\partial^2 u}{\\partial^2 x} = f(x)  \\quad \\forall x \\in (0,1), $$\n",
    "\n",
    "using the finite element method different types of boundary conditions."
   ]
  },
  {
   "cell_type": "markdown",
   "metadata": {},
   "source": [
    "## Homogeneus Dirichlet boundary conditions\n",
    "\n",
    "Consider\n",
    "\n",
    "$$ - \\frac{\\partial^2 u}{\\partial^2 x} = f(x)  \\quad \\forall x \\in (0,1), $$\n",
    "\n",
    "with homegeneuos Dirichlet boundary conditions $u(0) = u(1) = 0$.\n",
    "\n",
    "To obtain the weak form, we let $\\Omega = (0,1)$ and we define the functional space $V = H^1_0(\\Omega) := \\{ v \\in L^2(\\Omega) | v_x \\in L^2(\\Omega) \\text{ and } v = 0 \\text{ on } \\partial \\Omega\\}$.\n",
    "\n",
    "Then we multiply the strong form by an arbitrary function $v \\in V$ and integrate over $\\Omega$:\n",
    "\n",
    "$$ - \\int_0^1 \\frac{\\partial^2 u}{\\partial^2 x} v \\, dx = \\int_0^1 f\\,v \\, dx, \\quad \\forall v \\in V $$\n",
    "\n",
    "Integration by parts of the non-conforming term gives\n",
    "\n",
    "$$ - \\int_0^1 \\frac{\\partial^2 u}{\\partial^2 x} v \\, dx = \\int_0^1 \\frac{\\partial u}{\\partial x} \\frac{\\partial v}{\\partial x} \\, dx - \\left( \\left.\\frac{\\partial u}{\\partial x}\\right|_{x=1}\\, v(1) - \\left.\\frac{\\partial u}{\\partial x}\\right|_{x=0}\\,v(0) \\right). $$\n",
    "\n",
    "Recalling that $v(1) = v(0) = 0$ because of the Dirichlet boundary conditions, we finally write\n",
    "\n",
    "$$ \\int_0^1 \\frac{\\partial u}{\\partial x} \\frac{\\partial v}{\\partial x} \\, dx = \\int_0^1 f\\,v \\, dx, \\quad \\forall v \\in V. $$\n",
    "\n",
    "To obtain the finite element discretization we then consider a finite dimensional subspace $V_h \\subset V$ and we find $u_h \\in V_h$ such that\n",
    "\n",
    "$$ \\int_0^1 \\frac{\\partial u_h}{\\partial x} \\frac{\\partial v_h}{\\partial x} \\, dx = \\int_0^1 f\\,v_h \\, dx, \\quad \\forall v_h \\in V_h. $$\n",
    "\n",
    "Below we solve the problem using FEniCS for the choice $f(x) = \\sin(\\pi x)$. The analytical solution is $u_{ex} = \\frac{1}{\\pi^2} \\sin(\\pi x)$.\n",
    "\n",
    "### 1. Imports\n",
    "We import the following Python packages:\n",
    "\n",
    "- `dolfinx` is the python interface to FEniCSx.\n",
    "- `ufl` is the python interface used to define variational forms in FEniCSx\n",
    "- `matplotlib` is a plotting library that produces figure similar to the Matlab ones.\n",
    "- `numpy` is a python built-in library with many mathematical functions."
   ]
  },
  {
   "cell_type": "code",
   "execution_count": 2,
   "metadata": {},
   "outputs": [],
   "source": [
    "# Import FEniCSx\n",
    "import dolfinx as dl\n",
    "import ufl\n",
    "\n",
    "from mpi4py import MPI\n",
    "from petsc4py import PETSc\n",
    "\n",
    "# Import the package of mathematical functions\n",
    "import math\n",
    "import numpy as np\n",
    "\n",
    "# Enable plotting inside the notebook\n",
    "import matplotlib.pyplot as plt\n",
    "import pyvista as pv\n",
    "pv.set_jupyter_backend('static')"
   ]
  },
  {
   "cell_type": "markdown",
   "metadata": {},
   "source": [
    "### 2. Define the mesh and the finite element space\n",
    "We define a mesh of the domain $(0,1)$ with `nx` elements and `nx+1` vertices. The mesh size $h$ is $\\frac{1}{n_{x}}$.\n",
    "`create_unit_interval` is a `dolfinx` class (function?) that create a mesh for the unit interval. It takes as input the number of elements $nx$ and an MPI communicator.\n",
    "\n",
    "We also define the finite element space $V_h$ as the space of globally continuos functions that are piecewise linear  on the elements of the mesh. The number of degrees of freedom (dofs) of the space $V_h$ is $n+1$ (i.e. equal to the number of vertices in the mesh).\n",
    "`FunctionSpace` is a `dolfinx.fem` class that constructs the finite element space. It takes as inputs the mesh, the type of finite element (`CG` stands for *Continuous Galerkin* elements), and the finite element order (in our case $1$, since we are using linear finite elements)."
   ]
  },
  {
   "cell_type": "code",
   "execution_count": 11,
   "metadata": {},
   "outputs": [
    {
     "name": "stdout",
     "output_type": "stream",
     "text": [
      "0 1\n"
     ]
    },
    {
     "data": {
      "image/png": "[encoded data removed]",
      "text/plain": [
       "<PIL.Image.Image image mode=RGB size=400x400>"
      ]
     },
     "metadata": {},
     "output_type": "display_data"
    },
    {
     "name": "stdout",
     "output_type": "stream",
     "text": [
      "Number of dofs 11\n"
     ]
    }
   ],
   "source": [
    "comm = MPI.COMM_WORLD\n",
    "rank = comm.Get_rank()\n",
    "nprocs = comm.Get_size()\n",
    "iAmRoot = rank == 0\n",
    "\n",
    "# Define the finite element mesh. The mesh size h is 1/nx\n",
    "nx = 10\n",
    "\n",
    "    \n",
    "mesh = dl.mesh.create_unit_interval(nx = nx, comm=MPI.COMM_WORLD)\n",
    "\n",
    "# data for plotting\n",
    "cells, types, coords = dl.plot.create_vtk_mesh(mesh, mesh.topology.dim)\n",
    "grid = pv.UnstructuredGrid(cells, types, coords)\n",
    "\n",
    "# Create plotter\n",
    "window_size=[400,400]\n",
    "plotter = pv.Plotter(window_size=window_size)\n",
    "plotter.add_mesh(grid, style='points', color=\"k\")\n",
    "plotter.view_xz()\n",
    "plotter.add_title('Mesh', font='courier', color='w',\n",
    "                   font_size=10)\n",
    "plotter.show()\n",
    "\n",
    "# Define the finite element space V_h as the space of piecewise linear functions on the elements of the mesh.\n",
    "degree = 1\n",
    "Vh = dl.fem.FunctionSpace(mesh, (\"CG\", degree))\n",
    "Vhp = dl.fem.FunctionSpace(mesh, (\"CG\", degree+2))\n",
    "u  = dl.fem.Function(Vh)\n",
    "\n",
    "print(\"Number of dofs\", u.vector.size)"
   ]
  },
  {
   "cell_type": "markdown",
   "metadata": {},
   "source": [
    "### 3. Define the right hand side f\n",
    "We define the right hand side of the PDE using the `dolfinx.fem` class `Function` and its member function `interpolate`. The `interpolate` method takes as input mathematical definition of the expression, as a `lambda` function Here `x[0]` denotes the x coordinate of the mesh. In 2D, `x[1]` denotes the y coordinate of the mesh."
   ]
  },
  {
   "cell_type": "code",
   "execution_count": 3,
   "metadata": {},
   "outputs": [
    {
     "data": {
      "image/png": "[encoded data removed]",
      "text/plain": [
       "<PIL.Image.Image image mode=RGB size=400x400>"
      ]
     },
     "metadata": {},
     "output_type": "display_data"
    }
   ],
   "source": [
    "omega = np.pi\n",
    "f = dl.fem.Function(Vh)\n",
    "\n",
    "f.interpolate(lambda x: np.sin(omega * x[0]))\n",
    "grid.point_data[\"f\"] = f.x.array.real\n",
    "\n",
    "plotter = pv.Plotter(window_size=window_size)\n",
    "plotter.add_mesh(grid, style=\"points\")\n",
    "warped = grid.warp_by_scalar()\n",
    "\n",
    "plotter.add_mesh(warped, show_edges=True, show_scalar_bar=True, scalars=\"f\")\n",
    "plotter.view_xz()\n",
    "plotter.add_title('RHS forcing Term', font='courier', color='w',\n",
    "                     font_size=10)\n",
    "\n",
    "plotter.show()"
   ]
  },
  {
   "cell_type": "markdown",
   "metadata": {},
   "source": [
    "### 4. Define the Dirichlet boundary condition\n",
    "We define the Dirichlet boundary condition on the $u(0) = u(1) = 0$.\n",
    "The class `ScalarType` is used when we need to represent a value that is *constant* in space. As input it takes the value of the constant.\n",
    "`dirichletbc` is the `dolfinx.fem` class that is used to describe Dirichlet boundary conditions. It takes three inputs: the function or value of the Dirichlet boundary condition `u_bc`, the finite element degrees of freedom `dofs` which are prescribed by the Dirichlet conditions, and the finite element space $V_h$."
   ]
  },
  {
   "cell_type": "code",
   "execution_count": 4,
   "metadata": {},
   "outputs": [],
   "source": [
    "u_bc = PETSc.ScalarType(0.)\n",
    "facet_dim = mesh.topology.dim-1\n",
    "facets = dl.mesh.locate_entities_boundary(mesh, dim=facet_dim, \\\n",
    "                                        marker=lambda x: \n",
    "                                        np.logical_or(np.isclose(x[0], 0.0), np.isclose(x[0], 1.0)))\n",
    "dofs = dl.fem.locate_dofs_topological(V=Vh, entity_dim=facet_dim, entities=facets)\n",
    "bcs = [dl.fem.dirichletbc(value=u_bc, dofs=dofs, V = Vh)]"
   ]
  },
  {
   "cell_type": "markdown",
   "metadata": {},
   "source": [
    "### 5. Define the weak form\n",
    "We now write the weak form of the Poisson equation:\n",
    "\n",
    "- `uh`, the *trial* function, is an instance of the `ufl` class `TrialFunction`\n",
    "- `vh`, the *test* function, is an instance of the `ufl` class `TestFunction`\n",
    "- `grad` is the gradient operator acting on either a trial or test function. (In 1D $\\operatorname{grad} := \\frac{d}{dx}$).\n",
    "- `inner` is the product of two scalar, vector, or tensor functions\n",
    "- `dx` denotes that the integration is performed on the whole domain. `ds` (see next example) denotes that the integration is on the boundary of the domain.\n",
    "\n",
    "**Note**: the `TrialFunction` and `TestFunction` are special objects used to represent a weak form. `uh` does **not** contains the vector of interpolation weights of the solution.\n"
   ]
  },
  {
   "cell_type": "code",
   "execution_count": 5,
   "metadata": {},
   "outputs": [],
   "source": [
    "# Define the trial function uh and the test function vh\n",
    "uh = ufl.TrialFunction(Vh)\n",
    "vh = ufl.TestFunction(Vh)\n",
    "\n",
    "A_expr = ufl.inner(ufl.grad(uh), ufl.grad(vh)) * ufl.dx\n",
    "b_expr = f * vh * ufl.dx"
   ]
  },
  {
   "cell_type": "markdown",
   "metadata": {},
   "source": [
    "### 6. Assemble and solve the finite element discrete problem\n",
    "We now assemble the finite element stiffness matrix $A$ and the right hand side vector $b$ using the `petsc` `LinearProblem` class. `LinearProblem` takes the following inputs: the bilinear form `A_expr`, the linear form `b_expr`, `petsc_options` to specify the linear solver options and optionally a list of Dirichlet boundary conditions `bcs` and where to store the soltion `u`. We then call the `solve` method to solve the linear system $Au = b$.\n",
    "\n",
    "The finite element function `u = dl.fem.Function(Vh)` represents the solution of the PDE. The interpolation weights are stored in `u.vector`."
   ]
  },
  {
   "cell_type": "code",
   "execution_count": 6,
   "metadata": {},
   "outputs": [
    {
     "data": {
      "image/png": "[encoded data removed]",
      "text/plain": [
       "<PIL.Image.Image image mode=RGB size=400x400>"
      ]
     },
     "metadata": {},
     "output_type": "display_data"
    }
   ],
   "source": [
    "problem = dl.fem.petsc.LinearProblem(A_expr, b_expr, u=u, bcs=bcs, petsc_options={\"ksp_type\": \"preonly\", \"pc_type\": \"lu\"})\n",
    "problem.solve()\n",
    "\n",
    "grid.point_data[\"u\"] = u.x.array.real\n",
    "\n",
    "plotter = pv.Plotter(window_size=window_size)\n",
    "plotter.add_mesh(grid, style=\"points\")\n",
    "warped = grid.warp_by_scalar()\n",
    "plotter.add_mesh(warped, show_edges=True, show_scalar_bar=True, scalars=\"u\")\n",
    "plotter.view_xz()\n",
    "plotter.add_title('Finite element solution', font='courier', color='w',\n",
    "                     font_size=10)\n",
    "plotter.show()"
   ]
  },
  {
   "cell_type": "markdown",
   "metadata": {},
   "source": [
    "### 7. Compute error norms\n",
    "We then compute the error as measured in the $L^2(\\Omega)$ and energy norms.\n",
    "\n",
    "We use the `dolfinx.fem` function `assemble_scalar` to integrate $|u_h - u_{ex}|^2$ and $\\left|\\frac{d u_h}{dx} - \\frac{d u_{ex}}{dx}\\right|^2$\n",
    "over the domain $\\Omega$."
   ]
  },
  {
   "cell_type": "code",
   "execution_count": 7,
   "metadata": {},
   "outputs": [
    {
     "name": "stdout",
     "output_type": "stream",
     "text": [
      "|| u_h - u_ex ||_L^2 = 1.197875e-03\n",
      "|| u_h - u_ex ||_e = 2.046127e-02\n"
     ]
    }
   ],
   "source": [
    "u_ex = dl.fem.Function(Vhp)\n",
    "u_ex.interpolate(lambda x: (1. / omega**2) * np.sin(omega * x[0]))\n",
    "\n",
    "loc_err_L2 = dl.fem.assemble_scalar(dl.fem.form((u_ex-u)**2 * ufl.dx))\n",
    "err_L2  = np.sqrt(mesh.comm.allreduce(loc_err_L2, op=MPI.SUM))\n",
    "\n",
    "loc_err_energy = dl.fem.assemble_scalar(dl.fem.form(ufl.inner(ufl.grad(u) - ufl.grad(u_ex), ufl.grad(u) - ufl.grad(u_ex)) * ufl.dx))\n",
    "err_energy = np.sqrt(mesh.comm.allreduce(loc_err_energy, op=MPI.SUM))\n",
    "\n",
    "if iAmRoot:\n",
    "    print(\"|| u_h - u_ex ||_L^2 = {0:5e}\".format(err_L2) )\n",
    "    print( \"|| u_h - u_ex ||_e = {0:5e}\".format(err_energy) )"
   ]
  }
 ],
 "metadata": {
  "kernelspec": {
   "display_name": "Python 3",
   "language": "python",
   "name": "python3"
  },
  "language_info": {
   "codemirror_mode": {
    "name": "ipython",
    "version": 3
   },
   "file_extension": ".py",
   "mimetype": "text/x-python",
   "name": "python",
   "nbconvert_exporter": "python",
   "pygments_lexer": "ipython3",
   "version": "3.8.5"
  }
 },
 "nbformat": 4,
 "nbformat_minor": 1
}
